{
 "cells": [
  {
   "cell_type": "code",
   "execution_count": 1,
   "id": "040016c5-f9bd-45b7-b161-847d7e3b52ce",
   "metadata": {},
   "outputs": [],
   "source": [
    "# Import the random module.\n",
    "import random"
   ]
  },
  {
   "cell_type": "code",
   "execution_count": 2,
   "id": "4b2d6b07-8f49-4d45-9df5-1783caa92170",
   "metadata": {},
   "outputs": [
    {
     "data": {
      "text/plain": [
       "20"
      ]
     },
     "execution_count": 2,
     "metadata": {},
     "output_type": "execute_result"
    }
   ],
   "source": [
    "#randint returns integer (whole number)\n",
    "\n",
    "random.randint(-90, 90)"
   ]
  },
  {
   "cell_type": "code",
   "execution_count": 4,
   "id": "4c5055ff-5353-4dbd-b170-617cee910845",
   "metadata": {},
   "outputs": [
    {
     "data": {
      "text/plain": [
       "0.8525680968495948"
      ]
     },
     "execution_count": 4,
     "metadata": {},
     "output_type": "execute_result"
    }
   ],
   "source": [
    "#generates random float\n",
    "\n",
    "random.random()"
   ]
  },
  {
   "cell_type": "code",
   "execution_count": 5,
   "id": "6054bb80-e4d8-49a8-864f-7f519a5308a7",
   "metadata": {},
   "outputs": [
    {
     "data": {
      "text/plain": [
       "60.63725976015715"
      ]
     },
     "execution_count": 5,
     "metadata": {},
     "output_type": "execute_result"
    }
   ],
   "source": [
    "#generating lat/long by combining the whole and the decimal places\n",
    "\n",
    "random_number = random.randint(-90, 90) + random.random()\n",
    "\n",
    "random_number"
   ]
  },
  {
   "cell_type": "code",
   "execution_count": 9,
   "id": "d0bea098-fa77-43c6-8197-70eb3560bb7c",
   "metadata": {},
   "outputs": [
    {
     "name": "stdout",
     "output_type": "stream",
     "text": [
      "[-72.37622429753789, -32.16050654515989, -3.61519916956801, -76.60640028269533, 19.903769172074565, -79.66478233801529, 57.27172142955033, 44.509775685795304, 83.32423722612282, 29.992116025318396]\n"
     ]
    }
   ],
   "source": [
    "# generate 10 with a for loop\n",
    "\n",
    "x = 1\n",
    "\n",
    "latitudes = []\n",
    "\n",
    "while x < 11:\n",
    "\n",
    "    random_lat = random.randint(-90, 89) + random.random()\n",
    "    latitudes.append(random_lat)\n",
    "    x += 1\n",
    "\n",
    "print(latitudes)"
   ]
  },
  {
   "cell_type": "code",
   "execution_count": 10,
   "id": "bc52c424-be88-42c4-b4ef-9c6e2ec70909",
   "metadata": {},
   "outputs": [
    {
     "data": {
      "text/plain": [
       "27"
      ]
     },
     "execution_count": 10,
     "metadata": {},
     "output_type": "execute_result"
    }
   ],
   "source": [
    "# generate 10 with randrange()\n",
    "\n",
    "random.randrange(-90, 90, step=1)"
   ]
  },
  {
   "cell_type": "code",
   "execution_count": 11,
   "id": "57bfeeea-d210-446b-9ba5-0b798cfade94",
   "metadata": {},
   "outputs": [
    {
     "data": {
      "text/plain": [
       "15.118452838760533"
      ]
     },
     "execution_count": 11,
     "metadata": {},
     "output_type": "execute_result"
    }
   ],
   "source": [
    "# generate using uniform() (produces random float in a given range)\n",
    "\n",
    "random.uniform(-90, 90)"
   ]
  },
  {
   "cell_type": "code",
   "execution_count": 12,
   "id": "bc7d707b-1f00-4f06-9b3e-236bb7f7ef2e",
   "metadata": {},
   "outputs": [],
   "source": [
    "# Import the NumPy module.\n",
    "import numpy as np"
   ]
  },
  {
   "cell_type": "code",
   "execution_count": 15,
   "id": "7b9bdee4-5f11-4b10-9225-9a03b648af26",
   "metadata": {},
   "outputs": [
    {
     "data": {
      "text/plain": [
       "array([ 37.24557197,  -5.22771856,  31.00470204, -53.35068771,\n",
       "       -63.1862718 ,  79.18833873,  -5.78566063, -24.89436354,\n",
       "        -6.50083502, -88.38238775, -81.75623163,  62.55110311,\n",
       "       -44.16086908,  19.12441452, -17.60843711, -40.00338685,\n",
       "        -2.41289458,  -6.13766622, -52.28754949,  13.4987147 ,\n",
       "        67.19163759, -73.45196546, -39.06582892,  78.05271823,\n",
       "        42.8505138 ,  -5.1046091 , -52.61271998,  85.49896441,\n",
       "       -52.57433191,  42.47380869,  53.54123517, -76.59807366,\n",
       "        73.57125428,  -5.54938295, -38.45176181, -76.92414887,\n",
       "       -42.08374506, -87.61612077, -16.43131672,  59.06180345,\n",
       "       -76.56910609,  50.9606909 , -82.73636274, -77.85732202,\n",
       "        -7.41943074,  70.66998047,   0.1384766 ,  28.31050651,\n",
       "       -50.56266142, -54.13606599])"
      ]
     },
     "execution_count": 15,
     "metadata": {},
     "output_type": "execute_result"
    }
   ],
   "source": [
    "np.random.uniform(-90, 90, size=50)"
   ]
  },
  {
   "cell_type": "code",
   "execution_count": 20,
   "id": "ebbfdba7-d784-4783-b325-6cfb525a7851",
   "metadata": {},
   "outputs": [],
   "source": [
    "# Import timeit.\n",
    "import timeit\n"
   ]
  },
  {
   "cell_type": "code",
   "execution_count": 21,
   "id": "8525b019-a1e9-436f-b1b5-d13c0ea0ea68",
   "metadata": {},
   "outputs": [
    {
     "name": "stdout",
     "output_type": "stream",
     "text": [
      "17 µs ± 606 ns per loop (mean ± std. dev. of 7 runs, 100000 loops each)\n"
     ]
    }
   ],
   "source": [
    "%timeit np.random.uniform(-90.000, 90.000, size=1500)"
   ]
  },
  {
   "cell_type": "code",
   "execution_count": 24,
   "id": "b5420b17-dcd4-4db3-a6a3-57371fba2c4d",
   "metadata": {},
   "outputs": [
    {
     "name": "stdout",
     "output_type": "stream",
     "text": [
      "2.37 ms ± 66.7 µs per loop (mean ± std. dev. of 7 runs, 100 loops each)\n"
     ]
    }
   ],
   "source": [
    "#note- this is my code for for loop option\n",
    "\n",
    "def latitude(size):\n",
    "    \n",
    "    x = 1\n",
    "\n",
    "    latitudes = []\n",
    "\n",
    "    for num in range(size):\n",
    "\n",
    "        random_lat = random.randint(-90, 89) + random.random()\n",
    "        latitudes.append(random_lat)\n",
    "        x += 1\n",
    "        \n",
    "%timeit latitude(1500)\n"
   ]
  },
  {
   "cell_type": "code",
   "execution_count": null,
   "id": "e49aed18-2923-4270-bd5f-5c70854d5d89",
   "metadata": {},
   "outputs": [],
   "source": []
  }
 ],
 "metadata": {
  "kernelspec": {
   "display_name": "PythonData",
   "language": "python",
   "name": "pythondata"
  },
  "language_info": {
   "codemirror_mode": {
    "name": "ipython",
    "version": 3
   },
   "file_extension": ".py",
   "mimetype": "text/x-python",
   "name": "python",
   "nbconvert_exporter": "python",
   "pygments_lexer": "ipython3",
   "version": "3.7.13"
  }
 },
 "nbformat": 4,
 "nbformat_minor": 5
}
